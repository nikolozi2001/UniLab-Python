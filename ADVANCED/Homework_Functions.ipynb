{
  "cells": [
    {
      "cell_type": "markdown",
      "metadata": {
        "id": "YPv8K47p7nFp"
      },
      "source": [
        "# პირობები"
      ]
    },
    {
      "cell_type": "markdown",
      "metadata": {
        "id": "rsIXypATfxT6"
      },
      "source": [
        "## დავალება 1.1\n",
        "\n",
        "დაწერეთ პირობა, რომელიც შეამოწმებს რიცხვი არის:\n",
        "- პოზიტიური\n",
        "- ნეგატიური\n",
        "- თუ ნული"
      ]
    },
    {
      "cell_type": "code",
      "execution_count": 1,
      "metadata": {
        "colab": {
          "base_uri": "https://localhost:8080/"
        },
        "id": "r4VKQP3tfwpw",
        "outputId": "3bcfdcbf-568c-4ac0-e904-b6acd9965e1e"
      },
      "outputs": [
        {
          "name": "stdout",
          "output_type": "stream",
          "text": [
            "პოზიტიური\n"
          ]
        }
      ],
      "source": [
        "def check_number(number):\n",
        "    if number > 0:\n",
        "        print(\"პოზიტიური\")\n",
        "    elif number < 0:\n",
        "        print(\"ნეგატიური\")\n",
        "    else:\n",
        "        print(\"ნული\")\n",
        "\n",
        "num = int(input(\"შეიყვანეთ რიცხვი: \"))\n",
        "check_number(num)\n"
      ]
    },
    {
      "cell_type": "markdown",
      "metadata": {
        "id": "ugbQCroPheeF"
      },
      "source": [
        "## დავალება 1.2\n",
        "დაწერეთ პირობა, რომელიც გაარკვევს შემოტანილი ასო არის თანხმოვანი თუ ხმოვანი\n",
        "მაგალითი:\n",
        "```\n",
        "შემოიტანე სიმბოლო: ბ\n",
        "\"ბ\" თანხმოვანია\n",
        "=====================\n",
        "შემოიტანე სიმბოლო: ი\n",
        "\"ი\" ხმოვანია\n",
        "=====================\n",
        "\n",
        "```"
      ]
    },
    {
      "cell_type": "code",
      "execution_count": 5,
      "metadata": {
        "colab": {
          "base_uri": "https://localhost:8080/"
        },
        "id": "-GTm35C8heJ_",
        "outputId": "161be66a-86a0-43c1-af29-306e971030e1"
      },
      "outputs": [
        {
          "name": "stdout",
          "output_type": "stream",
          "text": [
            "თანხმოვანი\n"
          ]
        }
      ],
      "source": [
        "def check_character(character):\n",
        "    vowels = \"aeiouAEIOUაეიოუ\"\n",
        "    \n",
        "    if character in vowels:\n",
        "        print(\"ხმოვანი\")\n",
        "    else:\n",
        "        print(\"თანხმოვანი\")\n",
        "\n",
        "# შეტანილი ასოს შემოწმება\n",
        "char = input(\"შეიყვანეთ ასო: \")\n",
        "if len(char) == 1 and char.isalpha():\n",
        "    check_character(char)\n",
        "else:\n",
        "    print(\"შეიყვანეთ მხოლოდ ერთი ასო\")\n"
      ]
    },
    {
      "cell_type": "markdown",
      "metadata": {
        "id": "964PiyqNpWED"
      },
      "source": [
        "## დავალება 1.3\n",
        "\n",
        "შეამოწმე [პალინდრომულია](https://res.cloudinary.com/practicaldev/image/fetch/s--v-GhHG6---/c_limit%2Cf_auto%2Cfl_progressive%2Cq_66%2Cw_880/https://dev-to-uploads.s3.amazonaws.com/i/83dzwzcasn0a4hiawc0g.gif) თუ არა შემოტანილი სიტყვა/სტრიქონი\n",
        "![](https://www.wordscoach.com/blog/wp-content/uploads/2022/02/Palindrome-Words-wordscoach.com_-750x410.png)\n",
        "\n",
        "\n",
        "---\n",
        "\n",
        "მაგალითი:\n",
        "```\n",
        "შეიყვანეთ სიტყვა: radar\n",
        "ნამდვილად პალინდრომულია\n",
        "==============================\n",
        "შეიყვანეთ სიტყვა: madam\n",
        "ნამდვილად პალინდრომულია\n",
        "==============================\n",
        "შეიყვანეთ სიტყვა: other\n",
        "ააარა... საერთოდ არ არის პალინდრომული\n",
        "\n",
        "```"
      ]
    },
    {
      "cell_type": "code",
      "execution_count": 6,
      "metadata": {
        "colab": {
          "base_uri": "https://localhost:8080/"
        },
        "id": "LOCOr2oJpVsU",
        "outputId": "7006d8ef-4090-4dc5-ba07-a32fb0279b98"
      },
      "outputs": [
        {
          "name": "stdout",
          "output_type": "stream",
          "text": [
            "პალინდრომულია\n"
          ]
        }
      ],
      "source": [
        "def is_palindrome(text):\n",
        "    # ამოწმებს, თუ სტრიქონი და მისი თანხმოვანება ერთმანეთს არის თუ არა ერთმანეთს ემთხვევა\n",
        "    return text == text[::-1]\n",
        "\n",
        "# შეტანილი ტექსტის მოთხოვნა\n",
        "text = input(\"შეიყვანეთ სიტყვა/სტრიქონი: \")\n",
        "if is_palindrome(text):\n",
        "    print(\"პალინდრომულია\")\n",
        "else:\n",
        "    print(\"არ არის პალინდრომული\")\n"
      ]
    },
    {
      "cell_type": "markdown",
      "metadata": {
        "id": "IacFGVFJ5TeM"
      },
      "source": [
        "# ციკლები"
      ]
    },
    {
      "cell_type": "markdown",
      "metadata": {
        "id": "QdFRt-4OcXos"
      },
      "source": [
        "## დავალება 2.1\n",
        "\n",
        "for ციკლისა და range-ის გამოყენებით დაწერეთ ციკლი, რომელიც დაბეჭდავს ციფრებს 10-დან 0-ის ჩათვლით\n",
        "\n",
        "\n",
        "---\n",
        "\n",
        "\n",
        "მაგალითი: \\\n",
        "`10, 9, 8, 7, 6, 5, 4, 3, 2, 1, 0,\n",
        "`"
      ]
    },
    {
      "cell_type": "code",
      "execution_count": 7,
      "metadata": {
        "colab": {
          "base_uri": "https://localhost:8080/"
        },
        "id": "jXXc9_Fm5RTb",
        "outputId": "f5cf1ccf-e100-4609-880f-3fc60d1def36"
      },
      "outputs": [
        {
          "name": "stdout",
          "output_type": "stream",
          "text": [
            "10\n",
            "9\n",
            "8\n",
            "7\n",
            "6\n",
            "5\n",
            "4\n",
            "3\n",
            "2\n",
            "1\n",
            "0\n"
          ]
        }
      ],
      "source": [
        "for i in range(10, -1, -1):\n",
        "    print(i)\n"
      ]
    },
    {
      "cell_type": "markdown",
      "metadata": {
        "id": "KhiDDlcDeJ9H"
      },
      "source": [
        "## დავალება 2.2\n",
        "\n",
        "დაწერეთ ციკლი რომელიც აჩვენებს შეყვანილი რიცხვისთვის გამრავლების ცხრილს\n",
        "\n",
        "---\n",
        "\n",
        "\n",
        "მაგალითი:\n",
        "```\n",
        "Enter a number: 5\n",
        "5 x 1 = 5\n",
        "5 x 2 = 10\n",
        "5 x 3 = 15\n",
        "5 x 4 = 20\n",
        "5 x 5 = 25\n",
        "5 x 6 = 30\n",
        "5 x 7 = 35\n",
        "5 x 8 = 40\n",
        "5 x 9 = 45\n",
        "5 x 10 = 50\n",
        "```"
      ]
    },
    {
      "cell_type": "code",
      "execution_count": 8,
      "metadata": {
        "id": "U_PEYn-s6jnS"
      },
      "outputs": [
        {
          "name": "stdout",
          "output_type": "stream",
          "text": [
            "Multiplication Table for 5\n",
            "5 x 1 = 5\n",
            "5 x 2 = 10\n",
            "5 x 3 = 15\n",
            "5 x 4 = 20\n",
            "5 x 5 = 25\n",
            "5 x 6 = 30\n",
            "5 x 7 = 35\n",
            "5 x 8 = 40\n",
            "5 x 9 = 45\n",
            "5 x 10 = 50\n"
          ]
        }
      ],
      "source": [
        "num = int(input(\"Enter a number: \"))\n",
        "\n",
        "print(\"Multiplication Table for\", num)\n",
        "for i in range(1, 11):\n",
        "    print(f\"{num} x {i} = {num * i}\")\n",
        "\n",
        "\n"
      ]
    },
    {
      "cell_type": "markdown",
      "metadata": {
        "id": "IPuX9F-3nKms"
      },
      "source": [
        "## დავალება 2.3\n",
        "დაწერეთ ციკლი რომელიც დაბეჭდავს ლისტში მყოფ უდიდეს 3 რიცხვს და მათ ინდექსებს\n",
        "\n",
        "[Hint](https://youtu.be/QtwhlHP_tqc)"
      ]
    },
    {
      "cell_type": "code",
      "execution_count": 15,
      "metadata": {
        "id": "rA3S5B4ZnJ3D"
      },
      "outputs": [
        {
          "name": "stdout",
          "output_type": "stream",
          "text": [
            "[19, 6, 11, 11, 7, 8, 10, 10, 20, 14]\n",
            "[14, 19, 20]\n"
          ]
        }
      ],
      "source": [
        "import random\n",
        "lst = [random.randint(1,20) for _ in range(10)] # ქმნის და ინახავს random მონაცემებს [1,4,2,3,6,5]\n",
        "print(lst)\n",
        "\n",
        "\n",
        "# ვიღებთ ლისტში მყოფ 3 უდიდეს რიცხვს\n",
        "max_numbers = sorted(lst)[-3:]\n",
        "\n",
        "# დაბეჭდავს ლისტში მყოფ 3 უდიდეს რიცხვებს\n",
        "print(max_numbers)"
      ]
    },
    {
      "cell_type": "markdown",
      "metadata": {
        "id": "X5mRQAwlelUv"
      },
      "source": [
        "## დავალება 2.4\n",
        "\n",
        "დაწერეთ ციკლი რომელიც დაბეჭდავს ოთხუთხედს მოცემული სიმაღლისა და სიგანის მიხედვით\n",
        "\n",
        "---\n",
        "\n",
        "მაგალითი:\n",
        "```\n",
        "width=5\n",
        "height=2\n",
        "# # # # #\n",
        "# # # # #\n",
        "\n",
        "-------------\n",
        "\n",
        "width=2\n",
        "height=5\n",
        "# #\n",
        "# #\n",
        "# #\n",
        "# #\n",
        "# #\n",
        "\n",
        "```"
      ]
    },
    {
      "cell_type": "code",
      "execution_count": 18,
      "metadata": {
        "id": "VyhzUBaU6nKm"
      },
      "outputs": [
        {
          "name": "stdout",
          "output_type": "stream",
          "text": [
            "# # # # # \n",
            "# # # # # \n",
            "# # # # # \n",
            "# # # # # \n",
            "# # # # # \n"
          ]
        }
      ],
      "source": [
        "\n",
        "height = int(input(\"შეიყვანეთ სიმაღლე: \"))\n",
        "width = int(input(\"შეიყვანეთ სიგანე: \"))\n",
        "\n",
        "for i in range(height):\n",
        "    for j in range(width):\n",
        "        print(\"# \", end=\"\")\n",
        "    print()\n"
      ]
    },
    {
      "cell_type": "markdown",
      "metadata": {
        "id": "pjgW-6IN5NUk"
      },
      "source": [
        "# ფუნქციები"
      ]
    },
    {
      "cell_type": "markdown",
      "metadata": {
        "id": "aK36x5jrv1W4"
      },
      "source": [
        "## დავალება 3.1\n",
        "\n",
        "შექმენით ფუნქცია, რომელიც მიიღებს ორ პარამეტრს და დაბეჭდავს ყველა არითმეტიკულ ოპერაციას\n",
        "\n",
        "---\n",
        "მაგალითი:\n",
        "```\n",
        "5 +  2 =   7\n",
        "5 -  2 =   3\n",
        "5 *  2 =  10\n",
        "5 /  2 = 2.5\n",
        "5 // 2 =   2\n",
        "5 %  2 =   1\n",
        "```"
      ]
    },
    {
      "cell_type": "code",
      "execution_count": 21,
      "metadata": {
        "colab": {
          "base_uri": "https://localhost:8080/"
        },
        "id": "oMOQFyZCwEwq",
        "outputId": "fadc9c4e-db91-419b-82f3-3523c7f4f33e"
      },
      "outputs": [
        {
          "name": "stdout",
          "output_type": "stream",
          "text": [
            "Arithmetic operations:\n",
            "5 + 2 = 7\n",
            "5 - 2 = 3\n",
            "5 * 2 = 10\n",
            "5 / 2 = 2.50\n",
            "5 // 2 = 2\n",
            "5 % 2 = 1\n"
          ]
        }
      ],
      "source": [
        "def arithmetic_operations(a, b):\n",
        "    print(f\"{a:.0f} + {b:.0f} = {a + b:.0f}\")\n",
        "    print(f\"{a:.0f} - {b:.0f} = {a - b:.0f}\")\n",
        "    print(f\"{a:.0f} * {b:.0f} = {a * b:.0f}\")\n",
        "    print(f\"{a:.0f} / {b:.0f} = {a / b:.2f}\")\n",
        "    print(f\"{a:.0f} // {b:.0f} = {a // b:.0f}\")\n",
        "    print(f\"{a:.0f} % {b:.0f} = {a % b:.0f}\")\n",
        "\n",
        "def main():\n",
        "    a = float(input(\"Enter the first number: \"))\n",
        "    b = float(input(\"Enter the second number: \"))\n",
        "    print(\"Arithmetic operations:\")\n",
        "    arithmetic_operations(a, b)\n",
        "\n",
        "main()\n"
      ]
    },
    {
      "cell_type": "markdown",
      "metadata": {
        "id": "yfySSkgr6pKV"
      },
      "source": [
        "## დავალება 3.2\n",
        "\n",
        "გადააქციეთ დავალება 2.4 ფუნქციად,\\\n",
        "რომელსაც ექნება 2 პარამეტრი `სიმაღლე`, `სიგანე`"
      ]
    },
    {
      "cell_type": "code",
      "execution_count": 22,
      "metadata": {
        "id": "KeDwpUjV6owj"
      },
      "outputs": [
        {
          "name": "stdout",
          "output_type": "stream",
          "text": [
            "# # # # # # # # \n",
            "# # # # # # # # \n",
            "# # # # # # # # \n",
            "# # # # # # # # \n",
            "# # # # # # # # \n"
          ]
        }
      ],
      "source": [
        "def print_rectangle(height, width):\n",
        "    for i in range(height):\n",
        "        for j in range(width):\n",
        "            print(\"# \", end=\"\")\n",
        "        print()\n",
        "\n",
        "def main():\n",
        "    height = int(input(\"შეიყვანეთ სიმაღლე: \"))\n",
        "    width = int(input(\"შეიყვანეთ სიგანე: \"))\n",
        "    print_rectangle(height, width)\n",
        "\n",
        "main()\n"
      ]
    },
    {
      "cell_type": "markdown",
      "metadata": {
        "id": "8joKE_Nn7Lz8"
      },
      "source": [
        "## დავალება 3.3\n",
        "\n",
        "დაწერეთ ფუნქია, რომელიც მიიღებს 2 პარამეტრს:\\\n",
        "`სტრიქონს` და `სიმბოლოს`\n",
        "ფუნქციამ უნდა დაითვალოს თუ რამდენჯერ გვხვდება სიმბოლო სტიქონში.\n",
        "\n",
        "---\n",
        "მაგალითი:\n",
        "```\n",
        "in_str(\"John and Jane Doe\", \"J\")\n",
        ">>> Character \"J\" in given string: 2 times\n",
        "```"
      ]
    },
    {
      "cell_type": "code",
      "execution_count": 26,
      "metadata": {
        "id": "z4on3hDd-J6z"
      },
      "outputs": [
        {
          "name": "stdout",
          "output_type": "stream",
          "text": [
            "ნიკა კარგი ბიჭია\n",
            "სიმბოლო 'ა' გვხვდება სტრიქონში 3 ჯერ\n"
          ]
        }
      ],
      "source": [
        "def count_symbol_occurrences(string, symbol):\n",
        "    count = 0\n",
        "    for char in string:\n",
        "        if char == symbol:\n",
        "            count += 1\n",
        "    return count\n",
        "\n",
        "# მაგალითი\n",
        "string = input(\"შეიყვანეთ სტრიქონი: \")\n",
        "symbol = input(\"შეიყვანეთ ასო: \")\n",
        "result = count_symbol_occurrences(string, symbol)\n",
        "print(string)\n",
        "print(f\"სიმბოლო '{symbol}' გვხვდება სტრიქონში {result} ჯერ\")\n"
      ]
    },
    {
      "cell_type": "markdown",
      "metadata": {
        "id": "3TndAUHh80Cl"
      },
      "source": [
        "## დავალება 3.4\n",
        "\n",
        "დაწერეთ ფუნქცია რომელიც დაითვლის სიტყვების რაოდენობას წინადადებაში.\n",
        "\n",
        "---\n",
        "მაგალითი:\n",
        "```\n",
        "wc(\"რამდენიმე სიტყვა რომლის დათვლასაც ვაპირებთ\")\n",
        ">>> სიტყვების რაოდენობა წინადადებაში შეადგენს 5-ს.\n",
        "```"
      ]
    },
    {
      "cell_type": "code",
      "execution_count": 27,
      "metadata": {
        "id": "2nPCIGs9-F0I"
      },
      "outputs": [
        {
          "name": "stdout",
          "output_type": "stream",
          "text": [
            "სიტყვების რაოდენობა: 10\n"
          ]
        }
      ],
      "source": [
        "def count_words(text):\n",
        "    words = text.split()\n",
        "    return len(words)\n",
        "\n",
        "# მაგალითი\n",
        "text = \"რამდენიმე სიტყვა რომლის დათვლასაც ვაპირებთ\"\n",
        "result = count_words(text)\n",
        "print(f\"სიტყვების რაოდენობა: {result}\")\n"
      ]
    }
  ],
  "metadata": {
    "colab": {
      "provenance": [],
      "toc_visible": true
    },
    "kernelspec": {
      "display_name": "Python 3",
      "name": "python3"
    },
    "language_info": {
      "codemirror_mode": {
        "name": "ipython",
        "version": 3
      },
      "file_extension": ".py",
      "mimetype": "text/x-python",
      "name": "python",
      "nbconvert_exporter": "python",
      "pygments_lexer": "ipython3",
      "version": "3.10.8"
    }
  },
  "nbformat": 4,
  "nbformat_minor": 0
}
