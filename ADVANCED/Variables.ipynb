{
  "cells": [
    {
      "cell_type": "markdown",
      "metadata": {
        "id": "ulnF54iKWkFa"
      },
      "source": [
        "# ცვლადების ტიპები\n",
        "1. შეინახეთ ცვლადებში ცვლადების ტიპები მათი მნიშვნელობების ნაცვლად"
      ]
    },
    {
      "cell_type": "code",
      "execution_count": 5,
      "metadata": {
        "colab": {
          "base_uri": "https://localhost:8080/"
        },
        "id": "9ThQoZSTWean",
        "outputId": "e5d355cc-8f06-4b09-daac-92018cc89672"
      },
      "outputs": [
        {
          "name": "stdout",
          "output_type": "stream",
          "text": [
            "1 <class 'int'>\n",
            "-1 <class 'int'>\n",
            "True <class 'bool'>\n"
          ]
        }
      ],
      "source": [
        "# Ex1\n",
        "var1 = 1\n",
        "var2 = -1\n",
        "var3 = True\n",
        "\n",
        "# print(var1, var2, var3)\n",
        "\n",
        "print(var1, type(var1))\n",
        "print(var2, type(var2))\n",
        "print(var3, type(var3))"
      ]
    },
    {
      "cell_type": "markdown",
      "metadata": {
        "id": "ZmCar9-tW4Sb"
      },
      "source": [
        "2. შეცვალეთ ცვლადების ტიპები (type casting-ის მეშვეობით)"
      ]
    },
    {
      "cell_type": "code",
      "execution_count": 46,
      "metadata": {
        "colab": {
          "base_uri": "https://localhost:8080/"
        },
        "id": "FGDAE_haW1FG",
        "outputId": "fdaf981a-78ae-4454-b827-de2df8485b82"
      },
      "outputs": [
        {
          "name": "stdout",
          "output_type": "stream",
          "text": [
            "0.0 3.0 ['key', 'key1', 'key3']\n"
          ]
        }
      ],
      "source": [
        "# Ex2\n",
        "var4 = False # გადაიყვანეთ Float -ში\n",
        "var5 = 3 # გადაიყვანეთ Float -ში\n",
        "var6 = {\"key\":\"value\", \"key1\":\"value\", \"key3\":\"value\"} # გადაიყვანეთ list -ში\n",
        "\n",
        "var4 = float(var4)\n",
        "var5 = float(var5)\n",
        "var6 = list(var6.keys())\n",
        "\n",
        "print(var4, var5, var6)\n",
        "\n",
        "# var4 = float(var4)\n",
        "# var5 = float(var5)\n",
        "# var6_values = list(var6.values())\n",
        "# var6_keys = list(var6.keys())\n",
        "\n",
        "# print(var4, var5, var6_values)\n",
        "# print(var6_keys)"
      ]
    },
    {
      "cell_type": "markdown",
      "metadata": {
        "id": "LOr3dfW-ZrRs"
      },
      "source": [
        "3. შექმენით შესაფერისი ტიპის ცვლადები მონაცემებისთვის.\n",
        "\n",
        "__group22__\n",
        " - name: Python2023\n",
        " - count: 35\n",
        " - male: 22\n",
        " - female: 13\n",
        " - students: Student1, Student2, Student3, Student4, Student5\n",
        " - ages: 24,33,15,45,42\n",
        "\n",
        "\n",
        "\n"
      ]
    },
    {
      "cell_type": "code",
      "execution_count": 36,
      "metadata": {
        "id": "L0ua8NlxbNke"
      },
      "outputs": [
        {
          "name": "stdout",
          "output_type": "stream",
          "text": [
            "Python2023\n"
          ]
        }
      ],
      "source": [
        "# Ex3\n",
        "group22 = {\n",
        "       \"name\": \"Python2023\",\n",
        "       \"count\": 35,\n",
        "       \"male\": 22,\n",
        "       \"female\": 13,\n",
        "       \"students\": [\"Student1\", \"Student2\", \"Student3\", \"Student4\", \"Student5\"],\n",
        "       \"ages\": [24, 33, 15, 45, 42]\n",
        "}\n",
        "\n",
        "group_name = group22[\"name\"]\n",
        "count = group22[\"count\"]\n",
        "male = group22[\"male\"]\n",
        "female = group22[\"female\"]\n",
        "students = group22[\"students\"]\n",
        "ages = group22[\"ages\"]\n",
        "\n",
        "print (group_name)"
      ]
    },
    {
      "cell_type": "markdown",
      "metadata": {
        "id": "g-sRjGqCfHS4"
      },
      "source": [
        "# Tests\n",
        "\n",
        "__ქვედა ნაწილი არ დაარედაქტიროთ!__\n",
        "\n",
        "ამ ნაწილში გამოჩნდება რამდენად სწორად არის დაწერილი დავალება.\n",
        "\n",
        "თუ ქვემოთ დაეწერა:\n",
        "```\n",
        "test_ex1 (__main__.TestVars) ... ok\n",
        "test_ex2 (__main__.TestVars) ... ok\n",
        "test_ex3 (__main__.TestVars) ... ok\n",
        "```\n",
        "მაშინ ყველაფერი კარგად არის.\n"
      ]
    },
    {
      "cell_type": "code",
      "execution_count": null,
      "metadata": {
        "colab": {
          "base_uri": "https://localhost:8080/"
        },
        "id": "PZjp8tepcH5q",
        "outputId": "2ebee5c7-8c05-49bf-ca62-2c3c19ac8904"
      },
      "outputs": [
        {
          "name": "stderr",
          "output_type": "stream",
          "text": [
            "test_ex1 (__main__.TestVars) ... FAIL\n",
            "test_ex2 (__main__.TestVars) ... FAIL\n",
            "test_ex3 (__main__.TestVars) ... ERROR\n",
            "\n",
            "======================================================================\n",
            "ERROR: test_ex3 (__main__.TestVars)\n",
            "----------------------------------------------------------------------\n",
            "Traceback (most recent call last):\n",
            "  File \"<ipython-input-4-8bb45bc416e8>\", line 15, in test_ex3\n",
            "    self.assertEqual(group22.get(\"count\"), 35)\n",
            "AttributeError: 'NoneType' object has no attribute 'get'\n",
            "\n",
            "======================================================================\n",
            "FAIL: test_ex1 (__main__.TestVars)\n",
            "----------------------------------------------------------------------\n",
            "Traceback (most recent call last):\n",
            "  File \"<ipython-input-4-8bb45bc416e8>\", line 5, in test_ex1\n",
            "    self.assertEqual(var1, int)\n",
            "AssertionError: 1 != <class 'int'>\n",
            "\n",
            "======================================================================\n",
            "FAIL: test_ex2 (__main__.TestVars)\n",
            "----------------------------------------------------------------------\n",
            "Traceback (most recent call last):\n",
            "  File \"<ipython-input-4-8bb45bc416e8>\", line 12, in test_ex2\n",
            "    self.assertEqual(var6, ['key', 'key1', 'key3'])\n",
            "AssertionError: {'key': 'value', 'key1': 'value', 'key3': 'value'} != ['key', 'key1', 'key3']\n",
            "\n",
            "----------------------------------------------------------------------\n",
            "Ran 3 tests in 0.010s\n",
            "\n",
            "FAILED (failures=2, errors=1)\n"
          ]
        },
        {
          "data": {
            "text/plain": [
              "<unittest.main.TestProgram at 0x7f90cf098550>"
            ]
          },
          "execution_count": 4,
          "metadata": {},
          "output_type": "execute_result"
        }
      ],
      "source": [
        "import unittest\n",
        "\n",
        "class TestVars(unittest.TestCase):\n",
        "  def test_ex1(self):\n",
        "    self.assertEqual(var1, int)\n",
        "    self.assertEqual(var2, int)\n",
        "    self.assertEqual(var3, bool)\n",
        "\n",
        "  def test_ex2(self):\n",
        "    self.assertEqual(var4, 0.0)\n",
        "    self.assertEqual(var5, 3.0)\n",
        "    self.assertEqual(var6, ['key', 'key1', 'key3'])\n",
        "\n",
        "  def test_ex3(self):\n",
        "    self.assertEqual(group22.get(\"count\"), 35)\n",
        "    self.assertEqual(group22.get(\"female\"), 13)\n",
        "    self.assertEqual(type(group22.get(\"name\")), str)\n",
        "    self.assertEqual(type(group22.get(\"students\")), list)\n",
        "    self.assertEqual(type(group22.get(\"ages\")), list)\n",
        "    self.assertEqual(group22.get(\"ages\")[0], 24)\n",
        "\n",
        "unittest.main(argv=[''], defaultTest='TestVars', verbosity=2, exit=False)\n"
      ]
    }
  ],
  "metadata": {
    "colab": {
      "provenance": []
    },
    "kernelspec": {
      "display_name": "Python 3",
      "name": "python3"
    },
    "language_info": {
      "codemirror_mode": {
        "name": "ipython",
        "version": 3
      },
      "file_extension": ".py",
      "mimetype": "text/x-python",
      "name": "python",
      "nbconvert_exporter": "python",
      "pygments_lexer": "ipython3",
      "version": "3.10.8"
    }
  },
  "nbformat": 4,
  "nbformat_minor": 0
}
