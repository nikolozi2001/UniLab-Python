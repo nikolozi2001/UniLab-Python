{
  "cells": [
    {
      "cell_type": "markdown",
      "metadata": {
        "id": "9QRmXvICoNcF"
      },
      "source": [
        "# დავალება 1\n",
        "\n",
        "დაწერეთ უსასრულო ციკლი, რომელიც მოითხოვს მომხმარებლისგან ასაკის შეყვანას,\n",
        "თუ შეყვანილი მონაცემი არ იქნება რიცხვური ტიპის, მაშინ ციკლი დატრიალდეს და თავიდან კითხოს, სხვაგვარად დაუანგარიშოს დაბადების თარიღი.\n",
        "\n",
        "\n",
        "`(დავალებისთვის უნდა გამოიყენოთ input(\"შეიყვანეთ ასაკი: \"))`\n",
        "\n",
        "[Hint](https://www.programiz.com/python-programming/break-continue)\n",
        "\n",
        "\n",
        "[![](https://mermaid.ink/img/pako:eNpNULtuwkAQ_JXTViDhH3ABUsQfQHnNBi_GCn7InAtkudofMAJEEqEohCIRivin_RPO6yJpRjdzM7N7V8MijwhCiEssVmb-ZDNjMKaB8I_wQfhV-Cj8LdwKn1U5GSUXxTfvGAbBuIsVSZk_Yy38qbGb8F3D117xsS-9-FC8TJog6At8Hjf4kgwsCO-1d6e414G73u_zv8rflbem_i80FoZ_S3TNrY5tu_KYbAYjSKlMMYn8a-vOasGtKCULoT9GtMRq7SzYrPFWrFw-22YLCF1Z0QiqIkJH0wT9P6UQLnG9oeYB24WZSA?type=png)](https://mermaid.live/edit#pako:eNpNULtuwkAQ_JXTViDhH3ABUsQfQHnNBi_GCn7InAtkudofMAJEEqEohCIRivin_RPO6yJpRjdzM7N7V8MijwhCiEssVmb-ZDNjMKaB8I_wQfhV-Cj8LdwKn1U5GSUXxTfvGAbBuIsVSZk_Yy38qbGb8F3D117xsS-9-FC8TJog6At8Hjf4kgwsCO-1d6e414G73u_zv8rflbem_i80FoZ_S3TNrY5tu_KYbAYjSKlMMYn8a-vOasGtKCULoT9GtMRq7SzYrPFWrFw-22YLCF1Z0QiqIkJH0wT9P6UQLnG9oeYB24WZSA)"
      ]
    },
    {
      "cell_type": "code",
      "execution_count": 2,
      "metadata": {
        "colab": {
          "base_uri": "https://localhost:8080/"
        },
        "id": "q8ho8ShgoARA",
        "outputId": "e6609a9d-0d74-4cdb-b09e-8cfefb3e898b"
      },
      "outputs": [
        {
          "name": "stdout",
          "output_type": "stream",
          "text": [
            "გთხოვთ შეიყვანოთ რიცხვები\n",
            "1978\n"
          ]
        }
      ],
      "source": [
        "# დაწერე შენი კოდი ქვემოთ\n",
        "while True:\n",
        "    inp = input(\"შეიყვანეთ ასაკი \")\n",
        "    if not inp.isdigit():\n",
        "      print(\"გთხოვთ შეიყვანოთ რიცხვები\")\n",
        "    else:\n",
        "      print(f\"{2023 - int(inp)}\")\n",
        "      break\n",
        "\n",
        "\n"
      ]
    },
    {
      "cell_type": "code",
      "execution_count": null,
      "metadata": {
        "colab": {
          "base_uri": "https://localhost:8080/"
        },
        "id": "6m9IlBMnalTi",
        "outputId": "d49870b1-623c-453b-ad90-c8cfed9c1ef9"
      },
      "outputs": [
        {
          "data": {
            "text/plain": [
              "False"
            ]
          },
          "execution_count": 16,
          "metadata": {},
          "output_type": "execute_result"
        }
      ],
      "source": [
        "type(input) #"
      ]
    },
    {
      "cell_type": "code",
      "execution_count": null,
      "metadata": {
        "colab": {
          "base_uri": "https://localhost:8080/"
        },
        "id": "2B1kkyVUcc9b",
        "outputId": "bf5ec6f3-95c2-4a4d-878f-3b5d096da16f"
      },
      "outputs": [
        {
          "name": "stdout",
          "output_type": "stream",
          "text": [
            "Int-ად ვერ გადავაქცევთ\n"
          ]
        }
      ],
      "source": []
    },
    {
      "cell_type": "markdown",
      "metadata": {
        "id": "zEbvpLGWsPfZ"
      },
      "source": [
        "# დავალება 2\n",
        "\n",
        "While ციკლის მეშვეობით დაითვალეთ მოცემული მასივების:\n",
        "- 2-ე ხარისხი\n",
        "- 3-ე ხარისხი\n",
        "- [ფაქტორიალი](https://www.mathsisfun.com/numbers/factorial.html)\n"
      ]
    },
    {
      "cell_type": "code",
      "execution_count": null,
      "metadata": {
        "id": "Oc4bZg1ttjwa"
      },
      "outputs": [],
      "source": [
        "myList = range(1000)"
      ]
    },
    {
      "cell_type": "markdown",
      "metadata": {
        "id": "nRBhySHCAdoG"
      },
      "source": [
        "## დავალება 2.1"
      ]
    },
    {
      "cell_type": "code",
      "execution_count": null,
      "metadata": {
        "colab": {
          "base_uri": "https://localhost:8080/"
        },
        "id": "oXam_TNeuGGC",
        "outputId": "c4fcc55f-f5b3-4ca1-88d9-ca38bfb56136"
      },
      "outputs": [
        {
          "name": "stdout",
          "output_type": "stream",
          "text": [
            "1267650600228229401496703205376\n"
          ]
        }
      ],
      "source": [
        "# 2-ე ხარისხი\n",
        "i = 2\n",
        "print(i**100) #"
      ]
    },
    {
      "cell_type": "markdown",
      "metadata": {
        "id": "xL5ipfgEAmkH"
      },
      "source": [
        "## დავალება 2.2"
      ]
    },
    {
      "cell_type": "code",
      "execution_count": null,
      "metadata": {
        "id": "FIHw0Cx9uH_i"
      },
      "outputs": [],
      "source": [
        "# 3-ე ხარისხი"
      ]
    },
    {
      "cell_type": "markdown",
      "metadata": {
        "id": "PWO5m_4pAqUn"
      },
      "source": [
        "## დავალება 2.3"
      ]
    },
    {
      "cell_type": "code",
      "execution_count": null,
      "metadata": {
        "colab": {
          "base_uri": "https://localhost:8080/"
        },
        "id": "FeNSsAH4uMdq",
        "outputId": "eb0d91f0-7b25-413c-c3af-7b5be232b10d"
      },
      "outputs": [
        {
          "name": "stdout",
          "output_type": "stream",
          "text": [
            "6\n"
          ]
        }
      ],
      "source": [
        "# while ციკლის გამოყენებით დაწერეთ ფაქტორიალი\n",
        "\n",
        "# n = 1\n",
        "# factorial = 6\n",
        "# while n in range(1,6):\n",
        "#   factorial *= n\n",
        "#   n += 1\n",
        "# print(factorial)\n",
        "\n",
        "\n",
        "\n",
        "i = 3 # <- ფაქტორიალი\n",
        "factorial = 1\n",
        "while i > 0:\n",
        "  factorial *= i\n",
        "  i -= 1\n",
        "print(factorial)"
      ]
    },
    {
      "cell_type": "markdown",
      "metadata": {
        "id": "MB5R8nTFAvPv"
      },
      "source": [
        "## დავალება 2.4"
      ]
    },
    {
      "cell_type": "code",
      "execution_count": null,
      "metadata": {
        "colab": {
          "base_uri": "https://localhost:8080/"
        },
        "id": "VNxmQpIPvXrW",
        "outputId": "c035e5b4-b6a4-4de8-f0cb-d0dfae670b60"
      },
      "outputs": [
        {
          "name": "stdout",
          "output_type": "stream",
          "text": [
            "120\n",
            "24\n",
            "6\n",
            "2\n",
            "1\n"
          ]
        }
      ],
      "source": [
        "# while ციკლების გამოყენებით დაწერეთ ფაქტორიალი თითოეული ელემენტისთვის List -ში\n",
        "myList = [1,2,3,4,5]\n",
        "counter = len(myList)\n",
        "while counter > 0:\n",
        "  factor(myList[counter-1])\n",
        "  counter -= 1\n"
      ]
    },
    {
      "cell_type": "markdown",
      "metadata": {
        "id": "YdUiC4YLK4f1"
      },
      "source": [
        "# დავალება 3"
      ]
    },
    {
      "cell_type": "markdown",
      "metadata": {
        "id": "I30V8Z3aK-BP"
      },
      "source": [
        "ნებისმიერი ცილით / ნებისმიერი რაოდენობის ცილით\\\n",
        "დაბეჭდეთ ყველა ელემენტი მოცემული მონაცემთა სტრუქტურებიდან"
      ]
    },
    {
      "cell_type": "code",
      "execution_count": null,
      "metadata": {
        "colab": {
          "base_uri": "https://localhost:8080/"
        },
        "id": "CWQe2PaYLUlV",
        "outputId": "e527cdb7-f2a7-4971-a56e-7ea48af0dce5"
      },
      "outputs": [
        {
          "name": "stdout",
          "output_type": "stream",
          "text": [
            "Looking in indexes: https://pypi.org/simple, https://us-python.pkg.dev/colab-wheels/public/simple/\n",
            "Requirement already satisfied: Faker in /usr/local/lib/python3.8/dist-packages (16.8.1)\n",
            "Requirement already satisfied: python-dateutil>=2.4 in /usr/local/lib/python3.8/dist-packages (from Faker) (2.8.2)\n",
            "Requirement already satisfied: six>=1.5 in /usr/local/lib/python3.8/dist-packages (from python-dateutil>=2.4->Faker) (1.15.0)\n"
          ]
        }
      ],
      "source": [
        "# შეასრულე ეს კოდი მაგრამ არ შეცვალო\n",
        "!pip install Faker\n",
        "from faker import Faker\n",
        "import random\n",
        "fake = Faker()\n",
        "\n",
        "data = {\n",
        "    \"Names\": [],\n",
        "    \"Address\": [],\n",
        "    \"FB\": [],\n",
        "    \"Fav Emoji\": [],\n",
        "    }\n",
        "data_keys = list(data.keys())\n",
        "\n",
        "# მონაცემების გენერირება\n",
        "for _ in range(1): # თავიდან დააყენეთ ცოტა მონაცემზე და შემდგომში გაზარდეთ მინიმუმ 100-მდე\n",
        "  data[\"Names\"].append(fake.name())\n",
        "  data[\"Address\"].append(fake.address())\n",
        "  data[\"Fav Emoji\"].append(fake.emoji())\n",
        "  data[\"FB\"].append(fake.simple_profile())"
      ]
    },
    {
      "cell_type": "code",
      "execution_count": null,
      "metadata": {
        "colab": {
          "base_uri": "https://localhost:8080/"
        },
        "id": "8FjengCBLl21",
        "outputId": "f67a6130-1687-49ed-8077-3d7a7bb83a0e"
      },
      "outputs": [
        {
          "name": "stdout",
          "output_type": "stream",
          "text": [
            "{'Names': ['Lori Stanley'], 'Address': ['788 Harris Crescent\\nMartinezchester, AR 58084'], 'FB': [{'username': 'hodgetyler', 'name': 'Jessica Ramirez', 'sex': 'F', 'address': '9665 Thomas Grove Suite 210\\nJenniferhaven, IN 98680', 'mail': 'cynthiahill@hotmail.com', 'birthdate': datetime.date(1939, 5, 1)}], 'Fav Emoji': ['🇴🇲']}\n"
          ]
        }
      ],
      "source": [
        "print(data)"
      ]
    },
    {
      "cell_type": "code",
      "execution_count": null,
      "metadata": {
        "id": "HCaTm6qqo5DB"
      },
      "outputs": [],
      "source": [
        "{'Names': ['Lori Stanley'],\n",
        " 'Address': ['788 Harris Crescent\\nMartinezchester, AR 58084'],\n",
        " 'FB': [{\n",
        "      'username': 'hodgetyler',\n",
        "      'name': 'Jessica Ramirez',\n",
        "      'sex': 'F',\n",
        "      'address': '9665 Thomas Grove Suite 210\\nJenniferhaven, IN 98680',\n",
        "      'mail': 'cynthiahill@hotmail.com',\n",
        "      }],\n",
        " 'Fav Emoji': ['🇴🇲']\n",
        " }\n"
      ]
    },
    {
      "cell_type": "code",
      "execution_count": null,
      "metadata": {
        "colab": {
          "base_uri": "https://localhost:8080/"
        },
        "id": "wq1X4cXCsp7M",
        "outputId": "dfb5d296-3db5-40b4-febf-d91549e7b960"
      },
      "outputs": [
        {
          "name": "stdout",
          "output_type": "stream",
          "text": [
            "1\n",
            "1\n",
            "2\n",
            "6\n",
            "24\n"
          ]
        }
      ],
      "source": [
        "i = 1\n",
        "\n",
        "def factor (x):\n",
        "  i = x # <- ფაქტორიალი\n",
        "  factorial = 1\n",
        "  while i > 0:\n",
        "    factorial *= i\n",
        "    i -= 1\n",
        "  print(factorial)\n",
        "\n",
        "for i in range(5):\n",
        "  factor(i)"
      ]
    },
    {
      "cell_type": "code",
      "execution_count": null,
      "metadata": {
        "id": "b7dl7M1TxmRu"
      },
      "outputs": [],
      "source": []
    }
  ],
  "metadata": {
    "colab": {
      "provenance": []
    },
    "kernelspec": {
      "display_name": "Python 3",
      "name": "python3"
    },
    "language_info": {
      "codemirror_mode": {
        "name": "ipython",
        "version": 3
      },
      "file_extension": ".py",
      "mimetype": "text/x-python",
      "name": "python",
      "nbconvert_exporter": "python",
      "pygments_lexer": "ipython3",
      "version": "3.10.8"
    }
  },
  "nbformat": 4,
  "nbformat_minor": 0
}
