{
  "cells": [
    {
      "cell_type": "code",
      "execution_count": null,
      "metadata": {
        "id": "Gf7Xx3ZLa9NA"
      },
      "outputs": [],
      "source": [
        "import random # შეასრულეთ ეს კოდიც და არ შეცვალოთ"
      ]
    },
    {
      "cell_type": "markdown",
      "metadata": {
        "id": "L4weRn5F42oW"
      },
      "source": [
        "# String Formatting"
      ]
    },
    {
      "cell_type": "markdown",
      "metadata": {
        "id": "YL0SQK_UZxXk"
      },
      "source": [
        "## დავალება 1"
      ]
    },
    {
      "cell_type": "markdown",
      "metadata": {
        "id": "T0waP8lz7vgy"
      },
      "source": [
        "შედეგად უნდა მივიღოთ: \\\n",
        "```\n",
        "მე ჯონ დო დავიბადე 1989 წელს, შესაბამისად ვარ 34 წლის\n",
        "```\n",
        "[Documentation](https://docs.python.org/3/tutorial/inputoutput.html)"
      ]
    },
    {
      "cell_type": "markdown",
      "metadata": {
        "id": "4Ga2nfWRZHyT"
      },
      "source": [
        "დააფორმატეთ სტრიქონი და გამოითვალეთ თქვენი ასაკი"
      ]
    },
    {
      "cell_type": "code",
      "execution_count": 1,
      "metadata": {
        "id": "UlFh_r8-5Kud"
      },
      "outputs": [
        {
          "name": "stdout",
          "output_type": "stream",
          "text": [
            "მე ჯონ დო დავიბადე 1989 წელს, შესაბამისად ვარ 34 წლის\n"
          ]
        }
      ],
      "source": [
        "birth_year = 1989 # ჩაწერეთ წელი\n",
        "name = 'ჯონ'\n",
        "surname = 'დო'\n",
        "age = 2023 - birth_year\n",
        "result = f'მე {name} {surname} დავიბადე {birth_year} წელს, შესაბამისად ვარ {age} წლის'\n",
        "print(result)\n"
      ]
    },
    {
      "cell_type": "markdown",
      "metadata": {
        "id": "NJif4JPjZrzM"
      },
      "source": [
        "## დავალება 2"
      ]
    },
    {
      "cell_type": "markdown",
      "metadata": {
        "id": "_X-uMmQ5NBCx"
      },
      "source": [
        "გამოითვალეთ მომხრეთა და მოწინააღმდეგეთა პროცენტი და აჩვენეთ ორივე.\\\n",
        "(შეეცადეთ დაამრგვალოთ პროცენტები მეასედებამდე)\n",
        "\n",
        "\n",
        "\n",
        "---\n",
        "მაგალითი:\n",
        "```\n",
        "YES: 1234 = 34.80%\n",
        "NO:  2312 = 65.20%\n",
        "```\n"
      ]
    },
    {
      "cell_type": "code",
      "execution_count": 3,
      "metadata": {
        "colab": {
          "base_uri": "https://localhost:8080/"
        },
        "id": "ei_iE58R9gDD",
        "outputId": "82956cea-1413-4ece-facf-d729181092a6"
      },
      "outputs": [
        {
          "name": "stdout",
          "output_type": "stream",
          "text": [
            "YES: 150 = 43.35%\n",
            "NO: 196 = 56.65%\n"
          ]
        }
      ],
      "source": [
        "import random\n",
        "\n",
        "yes = random.randint(30,200)\n",
        "no = random.randint(30,200)\n",
        "pop = yes + no\n",
        "yes_share = yes * 100/pop\n",
        "no_share = no * 100/pop\n",
        "YES = f'YES: {yes} = {yes_share:.2f}%'\n",
        "NO = f'NO: {no} = {no_share:.2f}%'\n",
        "print(YES)\n",
        "print(NO)"
      ]
    },
    {
      "cell_type": "markdown",
      "metadata": {
        "id": "lqmeUWtw42tS"
      },
      "source": [
        "# Loops"
      ]
    },
    {
      "cell_type": "markdown",
      "metadata": {
        "id": "HtpGV7Cp5ogj"
      },
      "source": [
        "## დავალება 3\n",
        "ციკლში დაბეჭდეთ ლუწი რიცხვები\n"
      ]
    },
    {
      "cell_type": "markdown",
      "metadata": {
        "id": "hfs0O9IBr--C"
      },
      "source": [
        "While loop -ის გამოყენებით დაწერეთ ციკლი, რომელიც დაბეჭდავისას, გვერდით დაუწერს რიცხვს ლუწია თუ კენტი (ვისთვისაც მარტივი იქნება, შეგიძლიათ გამოიყენოთ [Ternary Operator](https://www.geeksforgeeks.org/ternary-operator-in-python/)-ი)\n",
        "\n",
        "---\n",
        "შედეგის მაგალითი:\n",
        "```\n",
        "1 კენტი\n",
        "2 ლუწი\n",
        "3 კენტი\n",
        "4 ლუწი\n",
        "5 კენტი\n",
        "6 ლუწი\n",
        "7 კენტი\n",
        "8 ლუწი\n",
        "9 კენტი\n",
        "10 ლუწი\n",
        "```"
      ]
    },
    {
      "cell_type": "code",
      "execution_count": 6,
      "metadata": {
        "id": "x3WFnWTH5LoD"
      },
      "outputs": [
        {
          "name": "stdout",
          "output_type": "stream",
          "text": [
            "1 კენტი\n",
            "2 ლუწი\n",
            "3 კენტი\n",
            "4 ლუწი\n",
            "5 კენტი\n",
            "6 ლუწი\n",
            "7 კენტი\n",
            "8 ლუწი\n",
            "9 კენტი\n",
            "10 ლუწი\n"
          ]
        }
      ],
      "source": [
        "# write your code here\n",
        "number = 1\n",
        "\n",
        "while number <= 10:\n",
        "    if number % 2 == 0:\n",
        "        print(f\"{number} ლუწი\")\n",
        "    else:\n",
        "        print(f\"{number} კენტი\")\n",
        "    number += 1\n"
      ]
    },
    {
      "cell_type": "markdown",
      "metadata": {
        "id": "uPCdxFtP42ks"
      },
      "source": [
        "# If Else"
      ]
    },
    {
      "cell_type": "markdown",
      "metadata": {
        "id": "-tP2SlThaCd0"
      },
      "source": [
        "## დავალება 4"
      ]
    },
    {
      "cell_type": "markdown",
      "metadata": {
        "id": "tuA1q8b_SiGV"
      },
      "source": [
        "გამოითვალეთ თითოეული სტუდენტის [საშუალო არითმეტიკული](https://www.mathsisfun.com/definitions/average.html) ქულა და დააბრუნეთ მისთვის შესაფერისი ნიშანი:\n",
        "```\n",
        "თუ საშუალო არითმეტიკული >= 90 : ნიშანი A\n",
        "თუ საშუალო არითმეტიკული >= 80 : ნიშანი B\n",
        "თუ საშუალო არითმეტიკული >= 70 : ნიშანი C\n",
        "თუ საშუალო არითმეტიკული >= 60 : ნიშანი D\n",
        "თუ საშუალო არითმეტიკული >= 40 : ნიშანი E\n",
        "თუ საშუალო არითმეტიკული <  40 : ნიშანი F\n",
        "```\n"
      ]
    },
    {
      "cell_type": "code",
      "execution_count": null,
      "metadata": {
        "colab": {
          "base_uri": "https://localhost:8080/"
        },
        "id": "yQ1j1Crf2qqb",
        "outputId": "db6e44e7-0aa6-4e43-85db-469587f66c2c"
      },
      "outputs": [
        {
          "name": "stdout",
          "output_type": "stream",
          "text": [
            "{'სალომე': [62, 64, 96, 98, 49], 'თორნიკე': [64, 98, 80, 64, 93], 'ანასტასია': [44, 61, 99, 62, 93], 'გიორგი': [70, 46, 97, 93, 70], 'სანდრო': [42, 93, 40, 51, 73]}\n"
          ]
        }
      ],
      "source": [
        "# ამ უჯრედში უბრალოდ მონაცემები იქმნება, ასე რომ მისი რედაქტირება არ არის საჭირო\n",
        "# შეასრულეთ კოდი და დაწერეთ თქვენი კოდი შემდეგ უჯრედში\n",
        "students = {\n",
        "    \"სალომე\":[random.randint(40,100) for _ in range(5)],\n",
        "    \"თორნიკე\":[random.randint(40,100) for _ in range(5)],\n",
        "    \"ანასტასია\":[random.randint(40,100) for _ in range(5)],\n",
        "    \"გიორგი\":[random.randint(40,100) for _ in range(5)],\n",
        "    \"სანდრო\":[random.randint(40,100) for _ in range(5)],\n",
        "}\n",
        "print(students)"
      ]
    },
    {
      "cell_type": "code",
      "execution_count": 7,
      "metadata": {
        "id": "sWc3qHxFV51Y"
      },
      "outputs": [
        {
          "name": "stdout",
          "output_type": "stream",
          "text": [
            "სალომე - არითმეტიკული ქულა: 68.00, ნიშანი: D\n",
            "თორნიკე - არითმეტიკული ქულა: 68.20, ნიშანი: D\n",
            "ანასტასია - არითმეტიკული ქულა: 69.60, ნიშანი: D\n",
            "გიორგი - არითმეტიკული ქულა: 76.20, ნიშანი: C\n",
            "სანდრო - არითმეტიკული ქულა: 71.80, ნიშანი: C\n"
          ]
        }
      ],
      "source": [
        "import random\n",
        "\n",
        "students = {\n",
        "    \"სალომე\": [random.randint(40, 100) for _ in range(5)],\n",
        "    \"თორნიკე\": [random.randint(40, 100) for _ in range(5)],\n",
        "    \"ანასტასია\": [random.randint(40, 100) for _ in range(5)],\n",
        "    \"გიორგი\": [random.randint(40, 100) for _ in range(5)],\n",
        "    \"სანდრო\": [random.randint(40, 100) for _ in range(5)],\n",
        "}\n",
        "\n",
        "def calculate_average(grades):\n",
        "    return sum(grades) / len(grades)\n",
        "\n",
        "def get_letter_grade(average):\n",
        "    if average >= 90:\n",
        "        return \"A\"\n",
        "    elif average >= 80:\n",
        "        return \"B\"\n",
        "    elif average >= 70:\n",
        "        return \"C\"\n",
        "    elif average >= 60:\n",
        "        return \"D\"\n",
        "    elif average >= 40:\n",
        "        return \"E\"\n",
        "    else:\n",
        "        return \"F\"\n",
        "\n",
        "for student, grades in students.items():\n",
        "    average_grade = calculate_average(grades)\n",
        "    letter_grade = get_letter_grade(average_grade)\n",
        "    print(f\"{student} - არითმეტიკული ქულა: {average_grade:.2f}, ნიშანი: {letter_grade}\")\n"
      ]
    }
  ],
  "metadata": {
    "colab": {
      "provenance": [],
      "toc_visible": true
    },
    "kernelspec": {
      "display_name": "Python 3",
      "name": "python3"
    },
    "language_info": {
      "codemirror_mode": {
        "name": "ipython",
        "version": 3
      },
      "file_extension": ".py",
      "mimetype": "text/x-python",
      "name": "python",
      "nbconvert_exporter": "python",
      "pygments_lexer": "ipython3",
      "version": "3.10.8"
    }
  },
  "nbformat": 4,
  "nbformat_minor": 0
}
